{
 "cells": [
  {
   "cell_type": "code",
   "id": "initial_id",
   "metadata": {
    "collapsed": true
   },
   "source": [
    "from random import randint\n",
    "import numpy as np"
   ],
   "outputs": [],
   "execution_count": null
  },
  {
   "metadata": {},
   "cell_type": "code",
   "source": [
    "from src.agent import DominoAgent\n",
    "from src.environment import DominoEnvironment\n",
    "from src.action import DominoAction, TOTAL_ACTIONS\n",
    "from src.replay_buffer import ReplayBuffer"
   ],
   "id": "d369d10a5a3a8b61",
   "outputs": [],
   "execution_count": null
  },
  {
   "metadata": {},
   "cell_type": "code",
   "source": [
    "def train(num_episodes: int = 10_000, batch_size: int = 64, buffer_capacity: int = 100_000, min_buffer_size: int = 1000,\n",
    "          target_update_freq: int = 100):\n",
    "    loss: float = 0.0\n",
    "    agent = DominoAgent()\n",
    "    agent.load(\"domino_agent.pt\")\n",
    "    buffer = ReplayBuffer(buffer_capacity)\n",
    "    all_rewards = []\n",
    "    wins = []\n",
    "\n",
    "    for episode in range(num_episodes):\n",
    "        num_players = randint(2, 4)\n",
    "        env = DominoEnvironment(num_players=num_players, agent_indices=[randint(0, num_players - 1)])\n",
    "        env.reset()\n",
    "        done = False\n",
    "        episode_reward: float = 0.0\n",
    "\n",
    "        while not done:\n",
    "            while True:\n",
    "                hand_tiles = [i for i, held in enumerate(env.current_state.hand_tiles) if held]\n",
    "                available_player_actions = [x for i in hand_tiles for x in (2 * i, 2 * i + 1)] + [TOTAL_ACTIONS - 1]\n",
    "                available_board_actions = [i for i, valid in enumerate(env.current_state.legal_actions) if valid]\n",
    "                legal_actions = sorted(set(available_player_actions) & set(available_board_actions))\n",
    "\n",
    "                if legal_actions == [TOTAL_ACTIONS - 1] and env.draw_pile:\n",
    "                    _, _ = env.draw_tile()\n",
    "                    continue\n",
    "                else:\n",
    "                    break\n",
    "\n",
    "            action_index = agent.select_action(env.current_state, legal_actions, training=True)\n",
    "            action = DominoAction(action_index)\n",
    "\n",
    "            next_state, reward, done = env.step(action)\n",
    "            episode_reward += reward\n",
    "\n",
    "            buffer.push(\n",
    "                np.array(env.current_state.to_array()),\n",
    "                action_index,\n",
    "                reward,\n",
    "                np.array(next_state.to_array()),\n",
    "                done,\n",
    "                np.array(env.current_state.legal_actions),\n",
    "                np.array(next_state.legal_actions)\n",
    "            )\n",
    "\n",
    "            if len(buffer) >= min_buffer_size:\n",
    "                batch = buffer.sample(batch_size)\n",
    "                batch_dict = {\n",
    "                    'states': batch[0],\n",
    "                    'actions': batch[1],\n",
    "                    'rewards': batch[2],\n",
    "                    'next_states': batch[3],\n",
    "                    'dones': batch[4]\n",
    "                }\n",
    "                loss = agent.train_step(batch_dict)\n",
    "\n",
    "        print(f\"[{episode}] Reward: {episode_reward:.2f}, Epsilon: {agent.epsilon:.3f}\")\n",
    "        all_rewards.append(episode_reward)\n",
    "        won = env.final_rewards.get(0, 0) > 0\n",
    "        wins.append(int(won))\n",
    "        agent.decay_epsilon()\n",
    "\n",
    "        if episode % target_update_freq == 0:\n",
    "            agent.update_target()\n",
    "            print(f\"[{episode}] Loss = {loss:.4f}\")\n",
    "            print(f\"[{episode}] Avg reward (last {target_update_freq}): {sum(all_rewards) / len(all_rewards):.2f}\")\n",
    "            print(f\"[{episode}] Win rate (last {target_update_freq}): {sum(wins) / len(wins):.2%}\")\n",
    "            all_rewards = []\n",
    "            wins = []\n",
    "            agent.save(\"domino_agent.pt\")\n"
   ],
   "id": "42d81743a7203715",
   "outputs": [],
   "execution_count": null
  },
  {
   "metadata": {},
   "cell_type": "code",
   "source": "train(5000,128,100_000,2000,50)",
   "id": "c33b0c4cabf2b787",
   "outputs": [],
   "execution_count": null
  }
 ],
 "metadata": {
  "kernelspec": {
   "display_name": "Python 3",
   "language": "python",
   "name": "python3"
  },
  "language_info": {
   "codemirror_mode": {
    "name": "ipython",
    "version": 2
   },
   "file_extension": ".py",
   "mimetype": "text/x-python",
   "name": "python",
   "nbconvert_exporter": "python",
   "pygments_lexer": "ipython2",
   "version": "2.7.6"
  }
 },
 "nbformat": 4,
 "nbformat_minor": 5
}
